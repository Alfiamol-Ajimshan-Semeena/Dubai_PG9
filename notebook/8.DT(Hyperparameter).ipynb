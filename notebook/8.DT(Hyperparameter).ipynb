{
 "cells": [
  {
   "cell_type": "code",
   "execution_count": 20,
   "id": "13985346-6221-44b7-86de-19e3efc1dc17",
   "metadata": {},
   "outputs": [],
   "source": [
    "import pandas as pd\n",
    "import matplotlib.pyplot as plt"
   ]
  },
  {
   "cell_type": "code",
   "execution_count": 21,
   "id": "ce83cb34-7bce-482c-91e1-88384259a2df",
   "metadata": {},
   "outputs": [],
   "source": [
    "import os\n",
    "from pathlib import Path\n",
    "\n",
    "# Load data\n",
    "path = Path(os.getcwd() + \"/..\").resolve()\n",
    "path='C:/Users/Hp/OneDrive/Desktop/DL coursework/Dubai_PG9/Datasets/Tabular/FOOD-DATA-GROUP.csv'\n",
    "df=pd.read_csv(path)\n",
    "\n",
    "df = df.drop(\"food\", axis=1)\n",
    "features = df.drop(\"Caloric Value\", axis=1).columns.tolist()\n",
    "target = \"Caloric Value\""
   ]
  },
  {
   "cell_type": "code",
   "execution_count": 22,
   "id": "5301892c-4d40-40e4-8104-7043721bf30b",
   "metadata": {},
   "outputs": [],
   "source": [
    "from sklearn.preprocessing import PowerTransformer\n",
    "\n",
    "# Initialize the PowerTransformer\n",
    "pt = PowerTransformer(method='yeo-johnson', standardize=True)\n",
    "\n",
    "# Transform the data\n",
    "df_transformed = pt.fit_transform(df)\n",
    "\n",
    "# Convert back to DataFrame\n",
    "df = pd.DataFrame(df_transformed, columns=df.columns)"
   ]
  },
  {
   "cell_type": "code",
   "execution_count": 23,
   "id": "2eea66aa-4d84-4cd2-a1aa-1d3d0c56f7a8",
   "metadata": {},
   "outputs": [],
   "source": [
    "# Column added for feature extraction\n",
    "df['Protein+Carbohydrates+Fat'] = df['Protein']+df['Carbohydrates']+df['Fat']"
   ]
  },
  {
   "cell_type": "code",
   "execution_count": 24,
   "id": "e0b1ecac-2fc8-4c8f-8f61-401d053d8d23",
   "metadata": {},
   "outputs": [],
   "source": [
    "selected_features = ['Nutrition Density', 'Monounsaturated Fats', 'Phosphorus', 'Calcium', 'Sodium', 'Vitamin B11', 'Dietary Fiber', 'Copper', 'Selenium', 'Protein+Carbohydrates+Fat']\n",
    "X = df[selected_features]\n",
    "y = df[target]"
   ]
  },
  {
   "cell_type": "code",
   "execution_count": 25,
   "id": "19ca8ea9-8201-46ec-8e8e-a594b1ceb2c2",
   "metadata": {},
   "outputs": [],
   "source": [
    "from sklearn.model_selection import GridSearchCV"
   ]
  },
  {
   "cell_type": "code",
   "execution_count": 26,
   "id": "da58c9aa-5bd4-46ef-baf9-62f1e1229d86",
   "metadata": {},
   "outputs": [],
   "source": [
    "from sklearn.linear_model import LinearRegression\n",
    "\n",
    "lin_reg_model = LinearRegression()\n"
   ]
  },
  {
   "cell_type": "code",
   "execution_count": 27,
   "id": "bd3516ea-8510-40e4-b194-ff1d0ec106f1",
   "metadata": {},
   "outputs": [
    {
     "data": {
      "text/html": [
       "<style>#sk-container-id-3 {color: black;background-color: white;}#sk-container-id-3 pre{padding: 0;}#sk-container-id-3 div.sk-toggleable {background-color: white;}#sk-container-id-3 label.sk-toggleable__label {cursor: pointer;display: block;width: 100%;margin-bottom: 0;padding: 0.3em;box-sizing: border-box;text-align: center;}#sk-container-id-3 label.sk-toggleable__label-arrow:before {content: \"▸\";float: left;margin-right: 0.25em;color: #696969;}#sk-container-id-3 label.sk-toggleable__label-arrow:hover:before {color: black;}#sk-container-id-3 div.sk-estimator:hover label.sk-toggleable__label-arrow:before {color: black;}#sk-container-id-3 div.sk-toggleable__content {max-height: 0;max-width: 0;overflow: hidden;text-align: left;background-color: #f0f8ff;}#sk-container-id-3 div.sk-toggleable__content pre {margin: 0.2em;color: black;border-radius: 0.25em;background-color: #f0f8ff;}#sk-container-id-3 input.sk-toggleable__control:checked~div.sk-toggleable__content {max-height: 200px;max-width: 100%;overflow: auto;}#sk-container-id-3 input.sk-toggleable__control:checked~label.sk-toggleable__label-arrow:before {content: \"▾\";}#sk-container-id-3 div.sk-estimator input.sk-toggleable__control:checked~label.sk-toggleable__label {background-color: #d4ebff;}#sk-container-id-3 div.sk-label input.sk-toggleable__control:checked~label.sk-toggleable__label {background-color: #d4ebff;}#sk-container-id-3 input.sk-hidden--visually {border: 0;clip: rect(1px 1px 1px 1px);clip: rect(1px, 1px, 1px, 1px);height: 1px;margin: -1px;overflow: hidden;padding: 0;position: absolute;width: 1px;}#sk-container-id-3 div.sk-estimator {font-family: monospace;background-color: #f0f8ff;border: 1px dotted black;border-radius: 0.25em;box-sizing: border-box;margin-bottom: 0.5em;}#sk-container-id-3 div.sk-estimator:hover {background-color: #d4ebff;}#sk-container-id-3 div.sk-parallel-item::after {content: \"\";width: 100%;border-bottom: 1px solid gray;flex-grow: 1;}#sk-container-id-3 div.sk-label:hover label.sk-toggleable__label {background-color: #d4ebff;}#sk-container-id-3 div.sk-serial::before {content: \"\";position: absolute;border-left: 1px solid gray;box-sizing: border-box;top: 0;bottom: 0;left: 50%;z-index: 0;}#sk-container-id-3 div.sk-serial {display: flex;flex-direction: column;align-items: center;background-color: white;padding-right: 0.2em;padding-left: 0.2em;position: relative;}#sk-container-id-3 div.sk-item {position: relative;z-index: 1;}#sk-container-id-3 div.sk-parallel {display: flex;align-items: stretch;justify-content: center;background-color: white;position: relative;}#sk-container-id-3 div.sk-item::before, #sk-container-id-3 div.sk-parallel-item::before {content: \"\";position: absolute;border-left: 1px solid gray;box-sizing: border-box;top: 0;bottom: 0;left: 50%;z-index: -1;}#sk-container-id-3 div.sk-parallel-item {display: flex;flex-direction: column;z-index: 1;position: relative;background-color: white;}#sk-container-id-3 div.sk-parallel-item:first-child::after {align-self: flex-end;width: 50%;}#sk-container-id-3 div.sk-parallel-item:last-child::after {align-self: flex-start;width: 50%;}#sk-container-id-3 div.sk-parallel-item:only-child::after {width: 0;}#sk-container-id-3 div.sk-dashed-wrapped {border: 1px dashed gray;margin: 0 0.4em 0.5em 0.4em;box-sizing: border-box;padding-bottom: 0.4em;background-color: white;}#sk-container-id-3 div.sk-label label {font-family: monospace;font-weight: bold;display: inline-block;line-height: 1.2em;}#sk-container-id-3 div.sk-label-container {text-align: center;}#sk-container-id-3 div.sk-container {/* jupyter's `normalize.less` sets `[hidden] { display: none; }` but bootstrap.min.css set `[hidden] { display: none !important; }` so we also need the `!important` here to be able to override the default hidden behavior on the sphinx rendered scikit-learn.org. See: https://github.com/scikit-learn/scikit-learn/issues/21755 */display: inline-block !important;position: relative;}#sk-container-id-3 div.sk-text-repr-fallback {display: none;}</style><div id=\"sk-container-id-3\" class=\"sk-top-container\"><div class=\"sk-text-repr-fallback\"><pre>DecisionTreeRegressor(max_depth=10, min_samples_leaf=7, random_state=42)</pre><b>In a Jupyter environment, please rerun this cell to show the HTML representation or trust the notebook. <br />On GitHub, the HTML representation is unable to render, please try loading this page with nbviewer.org.</b></div><div class=\"sk-container\" hidden><div class=\"sk-item\"><div class=\"sk-estimator sk-toggleable\"><input class=\"sk-toggleable__control sk-hidden--visually\" id=\"sk-estimator-id-3\" type=\"checkbox\" checked><label for=\"sk-estimator-id-3\" class=\"sk-toggleable__label sk-toggleable__label-arrow\">DecisionTreeRegressor</label><div class=\"sk-toggleable__content\"><pre>DecisionTreeRegressor(max_depth=10, min_samples_leaf=7, random_state=42)</pre></div></div></div></div></div>"
      ],
      "text/plain": [
       "DecisionTreeRegressor(max_depth=10, min_samples_leaf=7, random_state=42)"
      ]
     },
     "execution_count": 27,
     "metadata": {},
     "output_type": "execute_result"
    }
   ],
   "source": [
    "from sklearn.tree import DecisionTreeRegressor\n",
    "\n",
    "dec_tree_param_grid = [{\n",
    "    'max_depth': [2, 4, 7, 10],\n",
    "    'min_samples_split': [2, 4, 7, 10],\n",
    "    'min_samples_leaf': [2, 4, 7, 10]\n",
    "    }]\n",
    "dec_tree_grid_search = GridSearchCV(DecisionTreeRegressor(random_state=42), dec_tree_param_grid, cv=5, scoring='r2')\n",
    "dec_tree_grid_search.fit(X, y)\n",
    "dec_tree_grid_search.best_estimator_"
   ]
  },
  {
   "cell_type": "code",
   "execution_count": 28,
   "id": "b35e63d5-73fc-4952-a752-4eb37a3b606b",
   "metadata": {},
   "outputs": [],
   "source": [
    "# Initalize DecisionTreeRegressor with hyperparameters based on the best estimator from GridSearchCV\n",
    "dec_tree_model = DecisionTreeRegressor(max_depth=10, min_samples_leaf=7, random_state=42)"
   ]
  },
  {
   "cell_type": "code",
   "execution_count": 29,
   "id": "3ee3a1c2-c00f-417f-8d71-81432292facc",
   "metadata": {},
   "outputs": [
    {
     "data": {
      "text/html": [
       "<style>#sk-container-id-4 {color: black;background-color: white;}#sk-container-id-4 pre{padding: 0;}#sk-container-id-4 div.sk-toggleable {background-color: white;}#sk-container-id-4 label.sk-toggleable__label {cursor: pointer;display: block;width: 100%;margin-bottom: 0;padding: 0.3em;box-sizing: border-box;text-align: center;}#sk-container-id-4 label.sk-toggleable__label-arrow:before {content: \"▸\";float: left;margin-right: 0.25em;color: #696969;}#sk-container-id-4 label.sk-toggleable__label-arrow:hover:before {color: black;}#sk-container-id-4 div.sk-estimator:hover label.sk-toggleable__label-arrow:before {color: black;}#sk-container-id-4 div.sk-toggleable__content {max-height: 0;max-width: 0;overflow: hidden;text-align: left;background-color: #f0f8ff;}#sk-container-id-4 div.sk-toggleable__content pre {margin: 0.2em;color: black;border-radius: 0.25em;background-color: #f0f8ff;}#sk-container-id-4 input.sk-toggleable__control:checked~div.sk-toggleable__content {max-height: 200px;max-width: 100%;overflow: auto;}#sk-container-id-4 input.sk-toggleable__control:checked~label.sk-toggleable__label-arrow:before {content: \"▾\";}#sk-container-id-4 div.sk-estimator input.sk-toggleable__control:checked~label.sk-toggleable__label {background-color: #d4ebff;}#sk-container-id-4 div.sk-label input.sk-toggleable__control:checked~label.sk-toggleable__label {background-color: #d4ebff;}#sk-container-id-4 input.sk-hidden--visually {border: 0;clip: rect(1px 1px 1px 1px);clip: rect(1px, 1px, 1px, 1px);height: 1px;margin: -1px;overflow: hidden;padding: 0;position: absolute;width: 1px;}#sk-container-id-4 div.sk-estimator {font-family: monospace;background-color: #f0f8ff;border: 1px dotted black;border-radius: 0.25em;box-sizing: border-box;margin-bottom: 0.5em;}#sk-container-id-4 div.sk-estimator:hover {background-color: #d4ebff;}#sk-container-id-4 div.sk-parallel-item::after {content: \"\";width: 100%;border-bottom: 1px solid gray;flex-grow: 1;}#sk-container-id-4 div.sk-label:hover label.sk-toggleable__label {background-color: #d4ebff;}#sk-container-id-4 div.sk-serial::before {content: \"\";position: absolute;border-left: 1px solid gray;box-sizing: border-box;top: 0;bottom: 0;left: 50%;z-index: 0;}#sk-container-id-4 div.sk-serial {display: flex;flex-direction: column;align-items: center;background-color: white;padding-right: 0.2em;padding-left: 0.2em;position: relative;}#sk-container-id-4 div.sk-item {position: relative;z-index: 1;}#sk-container-id-4 div.sk-parallel {display: flex;align-items: stretch;justify-content: center;background-color: white;position: relative;}#sk-container-id-4 div.sk-item::before, #sk-container-id-4 div.sk-parallel-item::before {content: \"\";position: absolute;border-left: 1px solid gray;box-sizing: border-box;top: 0;bottom: 0;left: 50%;z-index: -1;}#sk-container-id-4 div.sk-parallel-item {display: flex;flex-direction: column;z-index: 1;position: relative;background-color: white;}#sk-container-id-4 div.sk-parallel-item:first-child::after {align-self: flex-end;width: 50%;}#sk-container-id-4 div.sk-parallel-item:last-child::after {align-self: flex-start;width: 50%;}#sk-container-id-4 div.sk-parallel-item:only-child::after {width: 0;}#sk-container-id-4 div.sk-dashed-wrapped {border: 1px dashed gray;margin: 0 0.4em 0.5em 0.4em;box-sizing: border-box;padding-bottom: 0.4em;background-color: white;}#sk-container-id-4 div.sk-label label {font-family: monospace;font-weight: bold;display: inline-block;line-height: 1.2em;}#sk-container-id-4 div.sk-label-container {text-align: center;}#sk-container-id-4 div.sk-container {/* jupyter's `normalize.less` sets `[hidden] { display: none; }` but bootstrap.min.css set `[hidden] { display: none !important; }` so we also need the `!important` here to be able to override the default hidden behavior on the sphinx rendered scikit-learn.org. See: https://github.com/scikit-learn/scikit-learn/issues/21755 */display: inline-block !important;position: relative;}#sk-container-id-4 div.sk-text-repr-fallback {display: none;}</style><div id=\"sk-container-id-4\" class=\"sk-top-container\"><div class=\"sk-text-repr-fallback\"><pre>RandomForestRegressor(min_samples_leaf=2, min_samples_split=7, n_estimators=30,\n",
       "                      random_state=42)</pre><b>In a Jupyter environment, please rerun this cell to show the HTML representation or trust the notebook. <br />On GitHub, the HTML representation is unable to render, please try loading this page with nbviewer.org.</b></div><div class=\"sk-container\" hidden><div class=\"sk-item\"><div class=\"sk-estimator sk-toggleable\"><input class=\"sk-toggleable__control sk-hidden--visually\" id=\"sk-estimator-id-4\" type=\"checkbox\" checked><label for=\"sk-estimator-id-4\" class=\"sk-toggleable__label sk-toggleable__label-arrow\">RandomForestRegressor</label><div class=\"sk-toggleable__content\"><pre>RandomForestRegressor(min_samples_leaf=2, min_samples_split=7, n_estimators=30,\n",
       "                      random_state=42)</pre></div></div></div></div></div>"
      ],
      "text/plain": [
       "RandomForestRegressor(min_samples_leaf=2, min_samples_split=7, n_estimators=30,\n",
       "                      random_state=42)"
      ]
     },
     "execution_count": 29,
     "metadata": {},
     "output_type": "execute_result"
    }
   ],
   "source": [
    "from sklearn.ensemble import RandomForestRegressor\n",
    "\n",
    "forest_reg_param_grid = [{\n",
    "    'n_estimators': [3, 10, 30],\n",
    "    'min_samples_split': [2, 4, 7, 10],\n",
    "    'min_samples_leaf': [2, 4, 7, 10]\n",
    "    }]\n",
    "forest_reg_grid_search = GridSearchCV(RandomForestRegressor(random_state=42), forest_reg_param_grid, cv=5, scoring='r2')\n",
    "forest_reg_grid_search.fit(X, y)\n",
    "forest_reg_grid_search.best_estimator_"
   ]
  },
  {
   "cell_type": "code",
   "execution_count": 30,
   "id": "4ebfb1b8-5bba-4d82-a17d-485bb3975990",
   "metadata": {},
   "outputs": [],
   "source": [
    "# Initalize RandomForestRegressor with hyperparameters based on the best estimator from GridSearchCV\n",
    "forest_reg_model = RandomForestRegressor(n_estimators=30, min_samples_leaf=2, min_samples_split=7, random_state=42)"
   ]
  },
  {
   "cell_type": "code",
   "execution_count": 31,
   "id": "c2b8b3e4-4ed8-4353-b795-d966056f1d95",
   "metadata": {},
   "outputs": [],
   "source": [
    "from sklearn.metrics import r2_score\n",
    "from sklearn.model_selection import train_test_split\n",
    "import numpy as np\n",
    "\n",
    "# Test size from 0.01 to 0.99 inclusive\n",
    "test_sizes = np.arange(0.01, 1.00, 0.01)\n",
    "test_samples = []\n",
    "lin_reg_r2_scores = []\n",
    "dec_tree_r2_scores = []\n",
    "forest_reg_r2_scores = []\n",
    "\n",
    "for test_size in test_sizes:\n",
    "    X_train, X_test, y_train, y_test = train_test_split(X, y, test_size=test_size, random_state=42)\n",
    "    test_samples.append(X_test.shape[0])\n",
    "\n",
    "    # Linear Regression\n",
    "    lin_reg_model.fit(X_train, y_train)\n",
    "    lin_reg_pred = lin_reg_model.predict(X_test)\n",
    "    # Calculate R2 score and add to list\n",
    "    lin_reg_r2_scores.append(r2_score(y_test, lin_reg_pred))\n",
    "\n",
    "    # Decision Tree Regressor\n",
    "    dec_tree_model.fit(X_train, y_train)\n",
    "    dec_tree_pred = dec_tree_model.predict(X_test)\n",
    "    # Calculate R2 score and add to list\n",
    "    dec_tree_r2_scores.append(r2_score(y_test, dec_tree_pred))\n",
    "\n",
    "    # Random Forest Regressor\n",
    "    forest_reg_model.fit(X_train, y_train)\n",
    "    forest_reg_pred = forest_reg_model.predict(X_test)\n",
    "    # Calculate R2 score and add to list\n",
    "    forest_reg_r2_scores.append(r2_score(y_test, forest_reg_pred))"
   ]
  },
  {
   "cell_type": "code",
   "execution_count": 32,
   "id": "df192dc5-2b5d-49ed-b856-a288c4df3c84",
   "metadata": {},
   "outputs": [
    {
     "data": {
      "image/png": "[encoded data removed]",
      "text/plain": [
       "<Figure size 800x350 with 1 Axes>"
      ]
     },
     "metadata": {},
     "output_type": "display_data"
    }
   ],
   "source": [
    "plt.figure(figsize=(8, 3.5))\n",
    "\n",
    "plt.plot(test_samples, lin_reg_r2_scores, \"b\", label=\"Linear Regression\")\n",
    "plt.plot(test_samples, dec_tree_r2_scores, \"r\", label=\"Decision Tree Regressor\")\n",
    "plt.plot(test_samples, forest_reg_r2_scores, \"g\", label=\"Random Forest Regressor\")\n",
    "\n",
    "plt.xlabel(\"Number of test samples\", fontsize=14)\n",
    "plt.ylabel(\"R² score\", fontsize=14)\n",
    "\n",
    "plt.legend()\n",
    "\n",
    "plt.show()"
   ]
  },
  {
   "cell_type": "code",
   "execution_count": 33,
   "id": "43665d87-61ce-4381-8ebd-356f61e273ca",
   "metadata": {},
   "outputs": [
    {
     "name": "stdout",
     "output_type": "stream",
     "text": [
      "Results summary:\n",
      "   mean_fit_time  std_fit_time  mean_score_time  std_score_time param_C  \\\n",
      "0       0.002690      0.000357         0.002299        0.000411     0.1   \n",
      "1       0.002264      0.000402         0.002085        0.000095     0.1   \n",
      "2       0.001869      0.000737         0.001135        0.000184     0.1   \n",
      "3       0.001993      0.000540         0.001328        0.000454     0.1   \n",
      "4       0.002254      0.000495         0.002155        0.000834     0.1   \n",
      "\n",
      "  param_epsilon param_gamma                                        params  \\\n",
      "0           0.1       scale  {'C': 0.1, 'epsilon': 0.1, 'gamma': 'scale'}   \n",
      "1           0.1       0.001    {'C': 0.1, 'epsilon': 0.1, 'gamma': 0.001}   \n",
      "2           0.1        0.01     {'C': 0.1, 'epsilon': 0.1, 'gamma': 0.01}   \n",
      "3           0.1         0.1      {'C': 0.1, 'epsilon': 0.1, 'gamma': 0.1}   \n",
      "4           0.1           1        {'C': 0.1, 'epsilon': 0.1, 'gamma': 1}   \n",
      "\n",
      "   split0_test_score  split1_test_score  split2_test_score  split3_test_score  \\\n",
      "0          -0.332832          -0.318112          -1.568713          -0.891070   \n",
      "1          -0.564705          -0.581290          -2.174791          -1.354677   \n",
      "2          -0.440545          -0.363173          -1.705192          -1.106793   \n",
      "3          -0.385106          -0.382423          -1.694034          -0.986500   \n",
      "4          -0.584647          -0.622911          -2.250949          -1.383361   \n",
      "\n",
      "   split4_test_score  mean_test_score  std_test_score  rank_test_score  \n",
      "0          -1.561598        -0.934465        0.554852               45  \n",
      "1          -2.228284        -1.380750        0.728637               74  \n",
      "2          -1.607806        -1.044702        0.563325               54  \n",
      "3          -1.683718        -1.026356        0.584013               52  \n",
      "4          -2.345146        -1.437403        0.758863               79  \n",
      "Best hyperparameters: {'C': 100, 'epsilon': 0.1, 'gamma': 0.01}\n",
      "Best cross-validation MSE: 0.20895278292487732\n",
      "Test set MSE: 0.2393170255044958\n"
     ]
    }
   ],
   "source": [
    "from sklearn.svm import SVR\n",
    "from sklearn.model_selection import GridSearchCV\n",
    "from sklearn.metrics import mean_squared_error\n",
    "import pandas as pd\n",
    "\n",
    "# Define a function to perform hyperparameter tuning and analyze the results\n",
    "def hyperparameter_investigation(X_train, X_test, y_train, y_test):\n",
    "    # Define the hyperparameters to be tested\n",
    "    param_grid = {\n",
    "        'C': [0.1, 1, 10, 100],\n",
    "        'gamma': ['scale', 0.001, 0.01, 0.1, 1],\n",
    "        'epsilon': [0.1, 0.2, 0.5, 0.3]\n",
    "    }\n",
    "    \n",
    "    # Initialize the model\n",
    "    svr = SVR()\n",
    "    \n",
    "    # Initialize GridSearchCV with cross-validation and scoring metric\n",
    "    grid_search = GridSearchCV(svr, param_grid, scoring='neg_mean_squared_error', cv=5, n_jobs=-1)\n",
    "    grid_search.fit(X_train, y_train)\n",
    "    \n",
    "    # Extract results\n",
    "    results = pd.DataFrame(grid_search.cv_results_)\n",
    "    \n",
    "    # Test the best model on the test set\n",
    "    best_model = grid_search.best_estimator_\n",
    "    y_pred = best_model.predict(X_test)\n",
    "    test_mse = mean_squared_error(y_test, y_pred)\n",
    "    \n",
    "    # Best hyperparameters and their performance on the test set\n",
    "    best_params = grid_search.best_params_\n",
    "    best_score = -grid_search.best_score_  # Convert to positive mean squared error\n",
    "    \n",
    "    return results, best_params, best_score, test_mse\n",
    "\n",
    "# Execute the investigation with the train/test data\n",
    "results, best_params, best_score, test_mse = hyperparameter_investigation(X_train, X_test, y_train, y_test)\n",
    "\n",
    "# Display the results\n",
    "print(\"Results summary:\")\n",
    "print(results.head())\n",
    "print(\"Best hyperparameters:\", best_params)\n",
    "print(\"Best cross-validation MSE:\", best_score)\n",
    "print(\"Test set MSE:\", test_mse)\n"
   ]
  },
  {
   "cell_type": "code",
   "execution_count": null,
   "id": "2f7e17cc-bffd-4bab-adf4-c833ceda9d02",
   "metadata": {},
   "outputs": [],
   "source": []
  }
 ],
 "metadata": {
  "kernelspec": {
   "display_name": "Python 3 (ipykernel)",
   "language": "python",
   "name": "python3"
  },
  "language_info": {
   "codemirror_mode": {
    "name": "ipython",
    "version": 3
   },
   "file_extension": ".py",
   "mimetype": "text/x-python",
   "name": "python",
   "nbconvert_exporter": "python",
   "pygments_lexer": "ipython3",
   "version": "3.8.19"
  }
 },
 "nbformat": 4,
 "nbformat_minor": 5
}
