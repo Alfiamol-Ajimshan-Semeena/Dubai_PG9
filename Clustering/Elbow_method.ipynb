{
 "cells": [
  {
   "cell_type": "markdown",
   "metadata": {
    "id": "7rMCUbI13LZ4"
   },
   "source": [
    "## Setup"
   ]
  },
  {
   "cell_type": "code",
   "execution_count": 2,
   "metadata": {
    "id": "GA5v-XEm3OvF"
   },
   "outputs": [],
   "source": [
    "import pandas as pd\n",
    "import matplotlib.pyplot as plt"
   ]
  },
  {
   "cell_type": "markdown",
   "metadata": {
    "id": "7ADDPJf4yMnG"
   },
   "source": [
    "## Get the data - features without the target"
   ]
  },
  {
   "cell_type": "code",
   "execution_count": 4,
   "metadata": {
    "colab": {
     "base_uri": "https://localhost:8080/",
     "height": 350
    },
    "id": "x4YqrVVDygP1",
    "outputId": "17a454ac-6172-44b9-d281-507d3f8cec2e"
   },
   "outputs": [],
   "source": [
    "import os\n",
    "from pathlib import Path\n",
    "\n",
    "# Load data\n",
    "path = Path(os.getcwd() + \"/..\").resolve()\n",
    "dataset_path = path/'Datasets/Tabular/FOOD-DATA-GROUP.csv'\n",
    "df = pd.read_csv(dataset_path)\n",
    "\n",
    "df = df.drop(\"food\", axis=1)\n",
    "features = df.drop(\"Caloric Value\", axis=1).columns.tolist()\n",
    "target = \"Caloric Value\"\n",
    "# Drop target as it is not needed in clustering\n",
    "df = df.drop(target, axis=1)"
   ]
  },
  {
   "cell_type": "markdown",
   "metadata": {
    "id": "NUVUjUzH0H2Y"
   },
   "source": [
    "## Yeo-Johnson transformation"
   ]
  },
  {
   "cell_type": "code",
   "execution_count": 6,
   "metadata": {
    "id": "cTFlqQ4n0Orc"
   },
   "outputs": [],
   "source": [
    "from sklearn.preprocessing import PowerTransformer\n",
    "\n",
    "# Initialize the PowerTransformer\n",
    "pt = PowerTransformer(method='yeo-johnson', standardize=True)\n",
    "\n",
    "# Transform the data\n",
    "df_transformed = pt.fit_transform(df)\n",
    "\n",
    "# Convert back to DataFrame\n",
    "df = pd.DataFrame(df_transformed, columns=df.columns)"
   ]
  },
  {
   "cell_type": "markdown",
   "metadata": {
    "id": "OA_1V03H_1gy"
   },
   "source": [
    "\n",
    "## Feature Selection\n"
   ]
  },
  {
   "cell_type": "markdown",
   "metadata": {
    "id": "i7YfXPyAA91N"
   },
   "source": [
    "### Create features manually"
   ]
  },
  {
   "cell_type": "code",
   "execution_count": 9,
   "metadata": {
    "id": "clzEplZFAH4p"
   },
   "outputs": [],
   "source": [
    "# Column added for feature extraction\n",
    "df['Protein+Carbohydrates+Fat'] = df['Protein']+df['Carbohydrates']+df['Fat']"
   ]
  },
  {
   "cell_type": "markdown",
   "metadata": {
    "id": "rfc91q8cDTrm"
   },
   "source": [
    "### Top 10 selected features"
   ]
  },
  {
   "cell_type": "code",
   "execution_count": 11,
   "metadata": {
    "id": "lM3MkwOEDhqa"
   },
   "outputs": [],
   "source": [
    "selected_features = ['Nutrition Density', 'Monounsaturated Fats', 'Phosphorus', 'Calcium', 'Sodium', 'Vitamin B11', 'Dietary Fiber', 'Copper', 'Selenium', 'Protein+Carbohydrates+Fat']\n",
    "X = df[selected_features]"
   ]
  },
  {
   "cell_type": "markdown",
   "metadata": {
    "id": "Q95dmC_3VdeQ"
   },
   "source": [
    "## Graphical model - Elbow method"
   ]
  },
  {
   "cell_type": "markdown",
   "metadata": {
    "id": "UnV28dBnV8eU"
   },
   "source": [
    "### Implement KMeans"
   ]
  },
  {
   "cell_type": "code",
   "execution_count": 14,
   "metadata": {
    "id": "RBnr6BegVmli"
   },
   "outputs": [],
   "source": [
    "from sklearn.cluster import KMeans\n",
    "\n",
    "# Generate KMeans model for clusters in range 1 to 7 inclusive and a random generator seed of 42 for reproducibility.\n",
    "kmeans_per_k = [KMeans(n_clusters=k, n_init=10, random_state=42).fit(X)\n",
    "                for k in range(1, 8)]\n",
    "\n",
    "# Extract interia from each KMeans model\n",
    "inertias = [model.inertia_ for model in kmeans_per_k]"
   ]
  },
  {
   "cell_type": "markdown",
   "metadata": {
    "id": "rSibdgdFVxzs"
   },
   "source": [
    "### Plot inertia values"
   ]
  },
  {
   "cell_type": "code",
   "execution_count": 16,
   "metadata": {
    "id": "-yxiO1HsWCuN",
    "outputId": "0771269b-906f-4e2f-b000-10953f2151de"
   },
   "outputs": [
    {
     "data": {
      "image/png": "[encoded data removed]",
      "text/plain": [
       "<Figure size 800x350 with 1 Axes>"
      ]
     },
     "metadata": {},
     "output_type": "display_data"
    }
   ],
   "source": [
    "plt.figure(figsize=(8, 3.5))\n",
    "plt.plot(range(1, 8), inertias, \"bo-\")\n",
    "plt.xlabel(\"$k$\", fontsize=14)\n",
    "plt.ylabel(\"Inertia\", fontsize=14)\n",
    "plt.annotate('Elbow',\n",
    "             xy=(2, inertias[1]),\n",
    "             xytext=(0.45, 0.75),\n",
    "             textcoords='figure fraction',\n",
    "             fontsize=16,\n",
    "             arrowprops=dict(facecolor='black', shrink=0.1)\n",
    "            )\n",
    "plt.show()"
   ]
  },
  {
   "cell_type": "markdown",
   "metadata": {
    "id": "VWonzdxqXOR5"
   },
   "source": [
    "It can be observed that there is an elbow at k = 2, indicating that the data can be divided into 2 clusters.\n"
   ]
  }
 ],
 "metadata": {
  "colab": {
   "provenance": []
  },
  "kernelspec": {
   "display_name": "Python 3 (ipykernel)",
   "language": "python",
   "name": "python3"
  },
  "language_info": {
   "codemirror_mode": {
    "name": "ipython",
    "version": 3
   },
   "file_extension": ".py",
   "mimetype": "text/x-python",
   "name": "python",
   "nbconvert_exporter": "python",
   "pygments_lexer": "ipython3",
   "version": "3.12.4"
  }
 },
 "nbformat": 4,
 "nbformat_minor": 4
}
